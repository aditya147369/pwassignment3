{
 "cells": [
  {
   "cell_type": "markdown",
   "id": "1833102c-b186-448e-b8a3-c02eae9396b9",
   "metadata": {},
   "source": [
    "Q1. Which keyword is used to create a function? Create a function to return a list of odd numbers in the range of 1 to 25."
   ]
  },
  {
   "cell_type": "code",
   "execution_count": 9,
   "id": "a63b20b4-2073-4ce6-b0e9-738acb7a4e6f",
   "metadata": {},
   "outputs": [
    {
     "data": {
      "text/plain": [
       "[1, 3, 5, 7, 9, 11, 13, 15, 17, 19, 21, 23, 25]"
      ]
     },
     "execution_count": 9,
     "metadata": {},
     "output_type": "execute_result"
    }
   ],
   "source": [
    "'def is the keyword used to create function in python'\n",
    "\n",
    "def odd_num():\n",
    "    l = []\n",
    "    for i in range(1,26):\n",
    "        if i%2 != 0:\n",
    "            l.append(i)\n",
    "    return l\n",
    "odd_num()"
   ]
  },
  {
   "cell_type": "markdown",
   "id": "d239c7aa-df6b-47ff-8a0d-8583812f27af",
   "metadata": {},
   "source": [
    "Q2.Why *args and **kwargs is used in some functions? Create a function each for *args and **kwargs to demonstrate their use."
   ]
  },
  {
   "cell_type": "code",
   "execution_count": 10,
   "id": "ba0dc0b7-3c74-4627-b4a0-22212938157a",
   "metadata": {},
   "outputs": [
    {
     "name": "stdout",
     "output_type": "stream",
     "text": [
      "(1, 2, 3, 4, 5)\n",
      "name aditya\n",
      "age 23\n"
     ]
    }
   ],
   "source": [
    "'''*args is a variable that can take multiple input of various data types from user and **kwargs are basically used to take dictionary like values like keys and values pairs as input'''\n",
    "def arguments(*n):\n",
    "    print(n)\n",
    "arguments(1,2,3,4,5)\n",
    "def dict_arguments(**kwargs):\n",
    "    for k,v in kwargs.items():\n",
    "        print(k,v)\n",
    "\n",
    "dict_arguments(name='aditya', age=23,)"
   ]
  },
  {
   "cell_type": "markdown",
   "id": "2628a848-1610-4ff8-b492-54b68402cfa3",
   "metadata": {},
   "source": [
    "Q3. What is an iterator in python? Name the method used to initialise the iterator object and the method used for iteration. Use these methods to print the first five elements of the given list [2, 4, 6, 8, 10, 12, 14, 16, 18, 20]."
   ]
  },
  {
   "cell_type": "code",
   "execution_count": 11,
   "id": "49a7af88-7eaa-4312-a06d-02ccf11a693e",
   "metadata": {},
   "outputs": [
    {
     "name": "stdout",
     "output_type": "stream",
     "text": [
      "2\n",
      "4\n",
      "6\n",
      "8\n",
      "10\n"
     ]
    }
   ],
   "source": [
    "'''An iterator is an object that enables iteration over a container of elements it provides a way to access elements one by one without the need to know the type of the container\n",
    "we use iter() function this function takes a container as an argument and returns an iterator object associated with that container and the method used for iteration is next() it is called on the iterator object to retrieve the next element in the container'''\n",
    "l = [2, 4, 6, 8, 10, 12, 14,16, 18, 20]\n",
    "i = iter(l)\n",
    "for _ in range(5):\n",
    "    value = next(i)\n",
    "    print(value)"
   ]
  },
  {
   "cell_type": "markdown",
   "id": "af65af00-7382-4f68-9e1e-4568cc08f7e2",
   "metadata": {},
   "source": [
    "Q4. What is a generator function in python? Why yield keyword is used? Give an example of a generator function."
   ]
  },
  {
   "cell_type": "code",
   "execution_count": 12,
   "id": "920586eb-6506-41f5-b0c9-ab447972b645",
   "metadata": {},
   "outputs": [
    {
     "name": "stdout",
     "output_type": "stream",
     "text": [
      "1\n",
      "2\n",
      "3\n",
      "4\n",
      "5\n"
     ]
    }
   ],
   "source": [
    "'''A generator function in python is a special type of function that generates a sequence of values one at a time instead of returning them all at once like a regular function. It allows us to iterate over a large number of values without storing all the values in memory simultaneously\n",
    "the yield keyword in python is used within a function to create a generator when the function come accross a yield statement, it temporarily pauses its execution and returns a value to the function call. The function's state is saved allowing it to resume from where it left off the next time it is called'''\n",
    "l = [1,2,3,4,5]\n",
    "def gen(l):\n",
    "    for i in l:\n",
    "        yield i\n",
    "g = gen(l)\n",
    "for i in g:\n",
    "    print(i)"
   ]
  },
  {
   "cell_type": "markdown",
   "id": "865d5e4c-ce28-451d-81fe-bc1f159c0f3d",
   "metadata": {},
   "source": [
    "Q5. Create a generator function for prime numbers less than 1000. Use the next() method to print the\n",
    "first 20 prime numbers."
   ]
  },
  {
   "cell_type": "code",
   "execution_count": 13,
   "id": "26e70b95-a9d1-4394-ba1c-ec889fad06fc",
   "metadata": {},
   "outputs": [
    {
     "name": "stdout",
     "output_type": "stream",
     "text": [
      "2\n",
      "3\n",
      "5\n",
      "7\n",
      "11\n",
      "13\n",
      "17\n",
      "19\n",
      "23\n",
      "29\n",
      "31\n",
      "37\n",
      "41\n",
      "43\n",
      "47\n",
      "53\n",
      "59\n",
      "61\n",
      "67\n",
      "71\n"
     ]
    }
   ],
   "source": [
    "def print_prime():\n",
    "    for i in range(2,1000):\n",
    "        count = 0\n",
    "        \n",
    "        for j in range(2,i):\n",
    "            if i%j==0:\n",
    "                count = 1\n",
    "                break\n",
    "            \n",
    "        if count == 0:\n",
    "            yield i\n",
    "p = print_prime()\n",
    "for i in range(20):\n",
    "    print(next(p))"
   ]
  },
  {
   "cell_type": "markdown",
   "id": "5671121d-bf6b-4844-8bfa-5a90bc235aa0",
   "metadata": {},
   "source": [
    "Q6. Write a python program to print the first 10 Fibonacci numbers using a while loop."
   ]
  },
  {
   "cell_type": "code",
   "execution_count": 14,
   "id": "25ac70e4-b824-426d-ba69-2483e1c3edac",
   "metadata": {},
   "outputs": [
    {
     "name": "stdout",
     "output_type": "stream",
     "text": [
      "0\n",
      "1\n",
      "1\n",
      "2\n",
      "3\n",
      "5\n",
      "8\n",
      "13\n",
      "21\n",
      "34\n"
     ]
    }
   ],
   "source": [
    "def fibonacci(n):\n",
    "    fib_seq = []\n",
    "    a, b = 0, 1\n",
    "\n",
    "    while len(fib_seq) < n:\n",
    "        fib_seq.append(a)\n",
    "        a, b = b, a + b\n",
    "\n",
    "    return fib_seq\n",
    "\n",
    "\n",
    "fib_num = fibonacci(10)\n",
    "for num in fib_num:\n",
    "    print(num)"
   ]
  },
  {
   "cell_type": "markdown",
   "id": "7cec6140-f1f4-4789-a19c-f47d5ab561eb",
   "metadata": {},
   "source": [
    "Q7. Write a List Comprehension to iterate through the given string: ‘pwskills’. Expected output: ['p', 'w', 's', 'k', 'i', 'l', 'l', 's']"
   ]
  },
  {
   "cell_type": "code",
   "execution_count": 15,
   "id": "5047831a-57fb-4cab-8078-a2d97ee81b83",
   "metadata": {},
   "outputs": [
    {
     "data": {
      "text/plain": [
       "['p', 'w', 's', 'k', 'i', 'l', 'l', 's']"
      ]
     },
     "execution_count": 15,
     "metadata": {},
     "output_type": "execute_result"
    }
   ],
   "source": [
    "s = 'pwskills'\n",
    "s1 = [i for i in s]\n",
    "s1"
   ]
  },
  {
   "cell_type": "markdown",
   "id": "860e3ef6-c372-4632-938e-70d57d47c066",
   "metadata": {},
   "source": [
    "Q8. Write a python program to check whether a given number is Palindrome or not using a while loop."
   ]
  },
  {
   "cell_type": "code",
   "execution_count": 16,
   "id": "9926e3a3-ad7b-483c-a76b-0876e1a81a8f",
   "metadata": {},
   "outputs": [
    {
     "name": "stdin",
     "output_type": "stream",
     "text": [
      "Enter a number  121\n"
     ]
    },
    {
     "name": "stdout",
     "output_type": "stream",
     "text": [
      "121 is a palindrome\n"
     ]
    }
   ],
   "source": [
    "def isPalindrome(n):\n",
    "    num = n\n",
    "    reverse = 0\n",
    "    \n",
    "    while n > 0:\n",
    "        remainder = n % 10\n",
    "        reverse = (reverse * 10) + remainder\n",
    "        n = n // 10\n",
    "    \n",
    "    if num == reverse:\n",
    "        return True\n",
    "    else:\n",
    "        return False\n",
    "\n",
    "# Test the function\n",
    "n = int(input(\"Enter a number \"))\n",
    "\n",
    "if isPalindrome(n):\n",
    "    print(f\"{n} is a palindrome\")\n",
    "else:\n",
    "    print(f\"{n} is not a palindrome\")"
   ]
  },
  {
   "cell_type": "markdown",
   "id": "468fb47f-6696-4917-a06b-d04ba12fc565",
   "metadata": {},
   "source": [
    "Q9. Write a code to print odd numbers from 1 to 100 using list comprehension. Note: Use a list comprehension to create a list from 1 to 100 and use another List comprehension to filter out odd numbers."
   ]
  },
  {
   "cell_type": "code",
   "execution_count": 17,
   "id": "dbf12b19-68b5-4372-90a6-4298091aec83",
   "metadata": {},
   "outputs": [
    {
     "name": "stdout",
     "output_type": "stream",
     "text": [
      "1\n",
      "3\n",
      "5\n",
      "7\n",
      "9\n",
      "11\n",
      "13\n",
      "15\n",
      "17\n",
      "19\n",
      "21\n",
      "23\n",
      "25\n",
      "27\n",
      "29\n",
      "31\n",
      "33\n",
      "35\n",
      "37\n",
      "39\n",
      "41\n",
      "43\n",
      "45\n",
      "47\n",
      "49\n",
      "51\n",
      "53\n",
      "55\n",
      "57\n",
      "59\n",
      "61\n",
      "63\n",
      "65\n",
      "67\n",
      "69\n",
      "71\n",
      "73\n",
      "75\n",
      "77\n",
      "79\n",
      "81\n",
      "83\n",
      "85\n",
      "87\n",
      "89\n",
      "91\n",
      "93\n",
      "95\n",
      "97\n",
      "99\n",
      "[2, 4, 6, 8, 10, 12, 14, 16, 18, 20, 22, 24, 26, 28, 30, 32, 34, 36, 38, 40, 42, 44, 46, 48, 50, 52, 54, 56, 58, 60, 62, 64, 66, 68, 70, 72, 74, 76, 78, 80, 82, 84, 86, 88, 90, 92, 94, 96, 98, 100]\n"
     ]
    }
   ],
   "source": [
    "[print(i) for i in range(1,101) if i%2 != 0]\n",
    "num = list(range(1, 101))\n",
    "even_numbers = list(filter(lambda x: x % 2 == 0, num))\n",
    "print(even_numbers)"
   ]
  },
  {
   "cell_type": "code",
   "execution_count": null,
   "id": "442ff70b-e6c8-44c1-b13f-4a08bc04d751",
   "metadata": {},
   "outputs": [],
   "source": []
  }
 ],
 "metadata": {
  "kernelspec": {
   "display_name": "Python 3 (ipykernel)",
   "language": "python",
   "name": "python3"
  },
  "language_info": {
   "codemirror_mode": {
    "name": "ipython",
    "version": 3
   },
   "file_extension": ".py",
   "mimetype": "text/x-python",
   "name": "python",
   "nbconvert_exporter": "python",
   "pygments_lexer": "ipython3",
   "version": "3.10.8"
  }
 },
 "nbformat": 4,
 "nbformat_minor": 5
}
